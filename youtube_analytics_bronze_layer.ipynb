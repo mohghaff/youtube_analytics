{
 "cells": [
  {
   "cell_type": "code",
   "execution_count": 0,
   "metadata": {
    "application/vnd.databricks.v1+cell": {
     "cellMetadata": {
      "byteLimit": 2048000,
      "rowLimit": 10000
     },
     "inputWidgets": {},
     "nuid": "9e89f8f0-fa23-4968-b141-0c7f2a84cf7c",
     "showTitle": false,
     "title": ""
    }
   },
   "outputs": [
    {
     "output_type": "stream",
     "name": "stdout",
     "output_type": "stream",
     "text": [
      "The directory /mnt/bronze is already mounted.\n"
     ]
    }
   ],
   "source": [
    "configs = {\n",
    "  \"fs.azure.account.auth.type\": \"CustomAccessToken\",\n",
    "  \"fs.azure.account.custom.token.provider.class\": spark.conf.get(\"spark.databricks.passthrough.adls.gen2.tokenProviderClassName\")\n",
    "}\n",
    "\n",
    "directory_to_check = \"/mnt/bronze\"\n",
    "mounted_directories = [mount.mountPoint for mount in dbutils.fs.mounts()]\n",
    "\n",
    "if directory_to_check in mounted_directories:\n",
    "    print(f\"The directory {directory_to_check} is already mounted.\")\n",
    "else:\n",
    "    dbutils.fs.mount(\n",
    "    source = \"abfss://bronze@youtubeadlsg2.dfs.core.windows.net/\",\n",
    "    mount_point = \"/mnt/bronze\",\n",
    "    extra_configs = configs)"
   ]
  },
  {
   "cell_type": "code",
   "execution_count": 0,
   "metadata": {
    "application/vnd.databricks.v1+cell": {
     "cellMetadata": {
      "byteLimit": 2048000,
      "rowLimit": 10000
     },
     "inputWidgets": {},
     "nuid": "bccdc68d-1cb0-44af-8567-9fa47b69e6cf",
     "showTitle": false,
     "title": ""
    }
   },
   "outputs": [
    {
     "output_type": "stream",
     "name": "stdout",
     "output_type": "stream",
     "text": [
      "Out[14]: [FileInfo(path='dbfs:/mnt/bronze/raw_data.parquet', name='raw_data.parquet', size=123374, modificationTime=1694524663000)]"
     ]
    }
   ],
   "source": [
    "dbutils.fs.ls('/mnt/bronze/')"
   ]
  },
  {
   "cell_type": "code",
   "execution_count": 0,
   "metadata": {
    "application/vnd.databricks.v1+cell": {
     "cellMetadata": {
      "byteLimit": 2048000,
      "rowLimit": 10000
     },
     "inputWidgets": {},
     "nuid": "9c97b7e2-cbe1-4f89-9780-fa9cfe1ab7fc",
     "showTitle": false,
     "title": ""
    }
   },
   "outputs": [],
   "source": [
    "file_path = '/mnt/bronze/raw_data.parquet'"
   ]
  },
  {
   "cell_type": "code",
   "execution_count": 0,
   "metadata": {
    "application/vnd.databricks.v1+cell": {
     "cellMetadata": {
      "byteLimit": 2048000,
      "rowLimit": 10000
     },
     "inputWidgets": {},
     "nuid": "855ba1c6-6018-4973-b99e-92d2800d5e2c",
     "showTitle": false,
     "title": ""
    }
   },
   "outputs": [],
   "source": [
    "df = spark.read.format('parquet').load(file_path)"
   ]
  },
  {
   "cell_type": "code",
   "execution_count": 0,
   "metadata": {
    "application/vnd.databricks.v1+cell": {
     "cellMetadata": {
      "byteLimit": 2048000,
      "rowLimit": 10000
     },
     "inputWidgets": {},
     "nuid": "349553d9-9d81-48c6-a941-34ac376e879d",
     "showTitle": false,
     "title": ""
    }
   },
   "outputs": [
    {
     "output_type": "stream",
     "name": "stdout",
     "output_type": "stream",
     "text": [
      "+----+--------------------+-----------+-----------+----------------+--------------------+-------+-------------+------------+-------------+----------------+------------+-----------------+--------------------------------+-----------------------+------------------------+----------------------+-----------------------+----------------------------+------------+-------------+------------+-----------------------------------+----------+-----------------+----------------+---------+----------+\n|rank|            Youtuber|subscribers|video_views|        category|               Title|uploads|      Country|Abbreviation| channel_type|video_views_rank|country_rank|channel_type_rank|video_views_for_the_last_30_days|lowest_monthly_earnings|highest_monthly_earnings|lowest_yearly_earnings|highest_yearly_earnings|subscribers_for_last_30_days|created_year|created_month|created_date|Gross_tertiary_education_enrollment|Population|Unemployment_rate|Urban_population| Latitude| Longitude|\n+----+--------------------+-----------+-----------+----------------+--------------------+-------+-------------+------------+-------------+----------------+------------+-----------------+--------------------------------+-----------------------+------------------------+----------------------+-----------------------+----------------------------+------------+-------------+------------+-----------------------------------+----------+-----------------+----------------+---------+----------+\n|   1|            T-Series|  245000000|   2.28E+11|           Music|            T-Series|  20082|        India|          IN|        Music|               1|           1|                1|                      2258000000|                 564600|                 9000000|               6800000|              108400000|                     2000000|        2006|          Mar|          13|                               28.1|1366417754|             5.36|       471031528|20.593684|  78.96288|\n|   2|      YouTube Movies|  170000000|          0|Film & Animation|       youtubemovies|      1|United States|          US|        Games|         4055159|        7670|             7423|                              12|                      0|                    0.05|                  0.04|                   0.58|                         nan|        2006|          Mar|           5|                               88.2| 328239523|             14.7|       270663028| 37.09024|-95.712891|\n|   3|             MrBeast|  166000000|28368841870|   Entertainment|             MrBeast|    741|United States|          US|Entertainment|              48|           1|                1|                      1348000000|                 337000|                 5400000|               4000000|               64700000|                     8000000|        2012|          Feb|          20|                               88.2| 328239523|             14.7|       270663028| 37.09024|-95.712891|\n|   4|Cocomelon - Nurse...|  162000000|   1.64E+11|       Education|Cocomelon - Nurse...|    966|United States|          US|    Education|               2|           2|                1|                      1975000000|                 493800|                 7900000|               5900000|               94800000|                     1000000|        2006|          Sep|           1|                               88.2| 328239523|             14.7|       270663028| 37.09024|-95.712891|\n|   5|           SET India|  159000000|   1.48E+11|           Shows|           SET India| 116536|        India|          IN|Entertainment|               3|           2|                2|                      1824000000|                 455900|                 7300000|               5500000|               87500000|                     1000000|        2006|          Sep|          20|                               28.1|1366417754|             5.36|       471031528|20.593684|  78.96288|\n+----+--------------------+-----------+-----------+----------------+--------------------+-------+-------------+------------+-------------+----------------+------------+-----------------+--------------------------------+-----------------------+------------------------+----------------------+-----------------------+----------------------------+------------+-------------+------------+-----------------------------------+----------+-----------------+----------------+---------+----------+\nonly showing top 5 rows\n\n"
     ]
    }
   ],
   "source": [
    "df.show(5)"
   ]
  },
  {
   "cell_type": "code",
   "execution_count": 0,
   "metadata": {
    "application/vnd.databricks.v1+cell": {
     "cellMetadata": {
      "byteLimit": 2048000,
      "rowLimit": 10000
     },
     "inputWidgets": {},
     "nuid": "a14ec1e7-c588-44f7-9526-26a03a5bb3f6",
     "showTitle": false,
     "title": ""
    }
   },
   "outputs": [
    {
     "output_type": "stream",
     "name": "stdout",
     "output_type": "stream",
     "text": [
      "+----+--------------------+-----------+-----------+\n|rank|            Youtuber|subscribers|video_views|\n+----+--------------------+-----------+-----------+\n|   1|            T-Series|  245000000|   2.28E+11|\n|   2|      YouTube Movies|  170000000|          0|\n|   3|             MrBeast|  166000000|28368841870|\n|   4|Cocomelon - Nurse...|  162000000|   1.64E+11|\n|   5|           SET India|  159000000|   1.48E+11|\n+----+--------------------+-----------+-----------+\nonly showing top 5 rows\n\n"
     ]
    }
   ],
   "source": [
    "df.select(\"rank\", \"Youtuber\", \"subscribers\", \"video_views\").show(5)"
   ]
  },
  {
   "cell_type": "code",
   "execution_count": 0,
   "metadata": {
    "application/vnd.databricks.v1+cell": {
     "cellMetadata": {
      "byteLimit": 2048000,
      "rowLimit": 10000
     },
     "inputWidgets": {},
     "nuid": "84ba466f-9445-4d57-83bd-2d8d633a939c",
     "showTitle": false,
     "title": ""
    }
   },
   "outputs": [
    {
     "output_type": "stream",
     "name": "stdout",
     "output_type": "stream",
     "text": [
      "The directory /mnt/silver is already mounted.\n"
     ]
    }
   ],
   "source": [
    "configs = {\n",
    "  \"fs.azure.account.auth.type\": \"CustomAccessToken\",\n",
    "  \"fs.azure.account.custom.token.provider.class\": spark.conf.get(\"spark.databricks.passthrough.adls.gen2.tokenProviderClassName\")\n",
    "}\n",
    "\n",
    "directory_to_check = \"/mnt/silver\"\n",
    "mounted_directories = [mount.mountPoint for mount in dbutils.fs.mounts()]\n",
    "\n",
    "if directory_to_check in mounted_directories:\n",
    "    print(f\"The directory {directory_to_check} is already mounted.\")\n",
    "else:\n",
    "    dbutils.fs.mount(\n",
    "    source = \"abfss://silver@youtubeadlsg2.dfs.core.windows.net/\",\n",
    "    mount_point = \"/mnt/silver\",\n",
    "    extra_configs = configs)"
   ]
  },
  {
   "cell_type": "code",
   "execution_count": 0,
   "metadata": {
    "application/vnd.databricks.v1+cell": {
     "cellMetadata": {
      "byteLimit": 2048000,
      "rowLimit": 10000
     },
     "inputWidgets": {},
     "nuid": "5d000abc-6111-479b-af7b-3d8d24585dc0",
     "showTitle": false,
     "title": ""
    }
   },
   "outputs": [],
   "source": [
    "output_path = '/mnt/silver/data'\n",
    "df.write.format('delta').mode('overwrite').save(output_path)"
   ]
  },
  {
   "cell_type": "code",
   "execution_count": 0,
   "metadata": {
    "application/vnd.databricks.v1+cell": {
     "cellMetadata": {},
     "inputWidgets": {},
     "nuid": "c571283b-a27b-4018-82eb-36c523749e56",
     "showTitle": false,
     "title": ""
    }
   },
   "outputs": [],
   "source": []
  }
 ],
 "metadata": {
  "application/vnd.databricks.v1+notebook": {
   "dashboards": [],
   "language": "python",
   "notebookMetadata": {
    "pythonIndentUnit": 4
   },
   "notebookName": "youtube_analytics_bronze_layer",
   "widgets": {}
  }
 },
 "nbformat": 4,
 "nbformat_minor": 0
}
