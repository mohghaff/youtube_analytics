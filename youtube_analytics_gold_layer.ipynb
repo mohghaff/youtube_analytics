{
 "cells": [
  {
   "cell_type": "code",
   "execution_count": 0,
   "metadata": {
    "application/vnd.databricks.v1+cell": {
     "cellMetadata": {
      "byteLimit": 2048000,
      "rowLimit": 10000
     },
     "inputWidgets": {},
     "nuid": "18fd6f1c-4546-4c77-a145-5467843c8db6",
     "showTitle": false,
     "title": ""
    }
   },
   "outputs": [],
   "source": [
    "from pyspark.sql import SparkSession\n",
    "from pyspark.sql.functions import col\n",
    "from pyspark.ml.feature import StringIndexer, OneHotEncoder\n",
    "from pyspark.ml import Pipeline"
   ]
  },
  {
   "cell_type": "code",
   "execution_count": 0,
   "metadata": {
    "application/vnd.databricks.v1+cell": {
     "cellMetadata": {
      "byteLimit": 2048000,
      "rowLimit": 10000
     },
     "inputWidgets": {},
     "nuid": "8b57cd0c-9fce-48cb-8aa6-353c0b5c0c39",
     "showTitle": false,
     "title": ""
    }
   },
   "outputs": [
    {
     "output_type": "stream",
     "name": "stdout",
     "output_type": "stream",
     "text": [
      "The directory /mnt/gold is already mounted.\n"
     ]
    }
   ],
   "source": [
    "configs = {\n",
    "  \"fs.azure.account.auth.type\": \"CustomAccessToken\",\n",
    "  \"fs.azure.account.custom.token.provider.class\": spark.conf.get(\"spark.databricks.passthrough.adls.gen2.tokenProviderClassName\")\n",
    "}\n",
    "\n",
    "directory_to_check = \"/mnt/gold\"\n",
    "mounted_directories = [mount.mountPoint for mount in dbutils.fs.mounts()]\n",
    "\n",
    "if directory_to_check in mounted_directories:\n",
    "    print(f\"The directory {directory_to_check} is already mounted.\")\n",
    "else:\n",
    "    dbutils.fs.mount(\n",
    "    source = \"abfss://gold@youtubeadlsg2.dfs.core.windows.net/\",\n",
    "    mount_point = \"/mnt/gold\",\n",
    "    extra_configs = configs)"
   ]
  },
  {
   "cell_type": "code",
   "execution_count": 0,
   "metadata": {
    "application/vnd.databricks.v1+cell": {
     "cellMetadata": {
      "byteLimit": 2048000,
      "rowLimit": 10000
     },
     "inputWidgets": {},
     "nuid": "30ca5e6f-26fb-476d-9389-2f10553344aa",
     "showTitle": false,
     "title": ""
    }
   },
   "outputs": [],
   "source": [
    "df = spark.read.format('delta').load('/mnt/gold/data/')"
   ]
  },
  {
   "cell_type": "code",
   "execution_count": 0,
   "metadata": {
    "application/vnd.databricks.v1+cell": {
     "cellMetadata": {
      "byteLimit": 2048000,
      "rowLimit": 10000
     },
     "inputWidgets": {},
     "nuid": "a4b0a734-a090-4601-9720-176f5152b655",
     "showTitle": false,
     "title": ""
    }
   },
   "outputs": [
    {
     "output_type": "stream",
     "name": "stdout",
     "output_type": "stream",
     "text": [
      "+----+----------------+-----------+---------------+----------------+----------------+-------+-------------+------------+-------------+----------------+------------+-----------------+--------------------------------+-----------------------+------------------------+----------------------+-----------------------+----------------------------+------------+-------------+------------+-----------------------------------+-------------+-----------------+----------------+---------+----------+--------------------+-------------------+--------------------+-------------------+--------------------+------------------------+\n|rank|        Youtuber|subscribers|    video_views|        category|           Title|uploads|      Country|Abbreviation| channel_type|video_views_rank|country_rank|channel_type_rank|video_views_for_the_last_30_days|lowest_monthly_earnings|highest_monthly_earnings|lowest_yearly_earnings|highest_yearly_earnings|subscribers_for_last_30_days|created_year|created_month|created_date|Gross_tertiary_education_enrollment|   Population|Unemployment_rate|Urban_population| Latitude| Longitude|       z_subscribers|subscribers_handled|       z_video_views|video_views_handled|  z_video_views_rank|video_views_rank_handled|\n+----+----------------+-----------+---------------+----------------+----------------+-------+-------------+------------+-------------+----------------+------------+-----------------+--------------------------------+-----------------------+------------------------+----------------------+-----------------------+----------------------------+------------+-------------+------------+-----------------------------------+-------------+-----------------+----------------+---------+----------+--------------------+-------------------+--------------------+-------------------+--------------------+------------------------+\n|  36|     EminemMusic|     5.69E7|2.7073872856E10|           Music|     EminemMusic|    156|United States|          US|        Music|            59.0|        10.0|             14.0|                       2.60193E8|                65000.0|               1000000.0|              780600.0|                 1.25E7|                    300000.0|  2007-01-01|         null|        null|                               88.2| 3.28239523E8|             14.7|       270663028| 37.09024|-95.712891|  1.9352609881030833|             5.69E7|  1.1363129927426998|    2.7073872856E10|-0.40666065377742655|                    59.0|\n| 304|Vania Mania Kids|     2.27E7|1.0115316784E10|  People & Blogs|Vania Mania Kids|    985|United States|          US|    Education|           438.0|        87.0|             18.0|                       1.55215E8|                38800.0|                620900.0|              465600.0|              7500000.0|                    300000.0|  2015-01-01|         null|        null|                               88.2| 3.28239523E8|             14.7|       270663028| 37.09024|-95.712891|-0.01611379452580...|             2.27E7| -0.0654971625621343|    1.0115316784E10|-0.40638254624325715|                   438.0|\n| 331|   Netflix India|     2.18E7|  7.780934187E9|  People & Blogs|   NETFLIX INDIA|      1|          nan|         nan|       People|       4052308.0|         NaN|           7665.0|                           408.0|                    0.0|                     0.0|                   0.0|                    0.0|                         NaN|  2017-01-01|         null|        null|                                NaN|          NaN|              NaN|             nan|      nan|       nan| -0.0674657624897262|             2.18E7|-0.23092897760171557|      7.780934187E9|   2.566851159495418|               4052308.0|\n| 360|       LIV Crime|     2.09E7|1.1058049885E10|  People & Blogs|       LIV Crime|   9850|United States|          US|       People|           372.0|       100.0|             17.0|                         3.837E8|                95900.0|               1500000.0|             1200000.0|                 1.84E7|                    600000.0|  2020-01-01|         null|        null|                               88.2| 3.28239523E8|             14.7|       270663028| 37.09024|-95.712891|-0.11881773045364441|             2.09E7|0.001311957843728166|    1.1058049885E10| -0.4064309765790228|                   372.0|\n| 436| Wow Kidz Action|      1.9E7|  8.281724393E9|Film & Animation| Wow Kidz Action|   1525|        India|          IN|Entertainment|           618.0|        78.0|            111.0|                       1.05706E8|                26400.0|                422800.0|              317100.0|              5100000.0|                    200000.0|  2017-01-01|         null|        null|                               28.1|1.366417754E9|             5.36|       471031528|20.593684|  78.96288|-0.22722744059969394|              1.9E7|  -0.195439237042865|      8.281724393E9|-0.40625046350935085|                   618.0|\n+----+----------------+-----------+---------------+----------------+----------------+-------+-------------+------------+-------------+----------------+------------+-----------------+--------------------------------+-----------------------+------------------------+----------------------+-----------------------+----------------------------+------------+-------------+------------+-----------------------------------+-------------+-----------------+----------------+---------+----------+--------------------+-------------------+--------------------+-------------------+--------------------+------------------------+\nonly showing top 5 rows\n\n"
     ]
    }
   ],
   "source": [
    "df.show(5)"
   ]
  },
  {
   "cell_type": "code",
   "execution_count": 0,
   "metadata": {
    "application/vnd.databricks.v1+cell": {
     "cellMetadata": {
      "byteLimit": 2048000,
      "rowLimit": 10000
     },
     "inputWidgets": {},
     "nuid": "0a619d1b-3c7b-45cc-baca-c87466861933",
     "showTitle": false,
     "title": ""
    }
   },
   "outputs": [],
   "source": [
    "df = df.withColumn(\"subscriber_to_view_ratio\", col(\"subscribers\") / col(\"video_views\"))"
   ]
  },
  {
   "cell_type": "code",
   "execution_count": 0,
   "metadata": {
    "application/vnd.databricks.v1+cell": {
     "cellMetadata": {
      "byteLimit": 2048000,
      "rowLimit": 10000
     },
     "inputWidgets": {},
     "nuid": "ad475e65-9e78-4524-9770-085303c70d06",
     "showTitle": false,
     "title": ""
    }
   },
   "outputs": [],
   "source": [
    "string_indexer = StringIndexer(inputCol=\"Country\", outputCol=\"CountryIndex\")\n",
    "encoder = OneHotEncoder(inputCol=\"CountryIndex\", outputCol=\"CountryOneHot\")\n",
    "\n",
    "pipeline = Pipeline(stages=[string_indexer, encoder])\n",
    "model = pipeline.fit(df)\n",
    "df_encoded = model.transform(df)\n"
   ]
  },
  {
   "cell_type": "code",
   "execution_count": 0,
   "metadata": {
    "application/vnd.databricks.v1+cell": {
     "cellMetadata": {
      "byteLimit": 2048000,
      "rowLimit": 10000
     },
     "inputWidgets": {},
     "nuid": "19c3baa6-23ab-4f85-98e0-d405118af814",
     "showTitle": false,
     "title": ""
    }
   },
   "outputs": [],
   "source": [
    "indexer = StringIndexer(inputCol=\"Country\", outputCol=\"CountryEncoded\")\n",
    "df_encoded = indexer.fit(df).transform(df)\n"
   ]
  },
  {
   "cell_type": "code",
   "execution_count": 0,
   "metadata": {
    "application/vnd.databricks.v1+cell": {
     "cellMetadata": {
      "byteLimit": 2048000,
      "rowLimit": 10000
     },
     "inputWidgets": {},
     "nuid": "d37066c9-c019-49cc-8866-4bfee6c67441",
     "showTitle": false,
     "title": ""
    }
   },
   "outputs": [
    {
     "output_type": "stream",
     "name": "stdout",
     "output_type": "stream",
     "text": [
      "+-------------+--------------+\n|      country|countryEncoded|\n+-------------+--------------+\n|United States|           0.0|\n|United States|           0.0|\n|          nan|           2.0|\n|United States|           0.0|\n|        India|           1.0|\n+-------------+--------------+\nonly showing top 5 rows\n\n"
     ]
    }
   ],
   "source": [
    "df_encoded.select('country', 'countryEncoded').show(5)"
   ]
  },
  {
   "cell_type": "code",
   "execution_count": 0,
   "metadata": {
    "application/vnd.databricks.v1+cell": {
     "cellMetadata": {
      "byteLimit": 2048000,
      "rowLimit": 10000
     },
     "inputWidgets": {},
     "nuid": "22a5cc73-e549-4add-8817-c91bc82e0838",
     "showTitle": false,
     "title": ""
    }
   },
   "outputs": [],
   "source": [
    "output_path = '/mnt/gold/data/final/'\n",
    "df_encoded.write.format('delta').mode('overwrite').option(\"overwriteSchema\", \"true\").save(output_path)\n"
   ]
  },
  {
   "cell_type": "code",
   "execution_count": 0,
   "metadata": {
    "application/vnd.databricks.v1+cell": {
     "cellMetadata": {
      "byteLimit": 2048000,
      "rowLimit": 10000
     },
     "inputWidgets": {},
     "nuid": "507f6229-7d68-4572-93d2-ee7ef2812d8a",
     "showTitle": false,
     "title": ""
    }
   },
   "outputs": [],
   "source": [
    "configs = {\n",
    "  \"fs.azure.account.auth.type\": \"CustomAccessToken\",\n",
    "  \"fs.azure.account.custom.token.provider.class\": spark.conf.get(\"spark.databricks.passthrough.adls.gen2.tokenProviderClassName\")\n",
    "}\n",
    "\n",
    "directory_to_check = \"/mnt/final\"\n",
    "mounted_directories = [mount.mountPoint for mount in dbutils.fs.mounts()]\n",
    "\n",
    "if directory_to_check in mounted_directories:\n",
    "    print(f\"The directory {directory_to_check} is already mounted.\")\n",
    "else:\n",
    "    dbutils.fs.mount(\n",
    "    source = \"abfss://final@youtubeadlsg2.dfs.core.windows.net/\",\n",
    "    mount_point = \"/mnt/final\",\n",
    "    extra_configs = configs)"
   ]
  },
  {
   "cell_type": "code",
   "execution_count": 0,
   "metadata": {
    "application/vnd.databricks.v1+cell": {
     "cellMetadata": {
      "byteLimit": 2048000,
      "rowLimit": 10000
     },
     "inputWidgets": {},
     "nuid": "00f8f464-8113-4b41-9d69-f477129a660c",
     "showTitle": false,
     "title": ""
    }
   },
   "outputs": [],
   "source": [
    "from delta.tables import DeltaTable\n",
    "\n",
    "# Create a DeltaTable instance\n",
    "delta_table = DeltaTable.forPath(spark, \"/mnt/gold/data/final/\")\n",
    "\n",
    "# Read the Delta table into a DataFrame\n",
    "delta_df = delta_table.toDF()\n",
    "\n",
    "# Define the output path for the CSV file\n",
    "csv_output_path = '/mnt/final/data/csv_data/'\n",
    "\n",
    "# Write the DataFrame as a CSV file\n",
    "delta_df.coalesce(1).write.format('csv').mode('overwrite').option('header', 'true').save(csv_output_path)\n",
    "\n"
   ]
  },
  {
   "cell_type": "code",
   "execution_count": 0,
   "metadata": {
    "application/vnd.databricks.v1+cell": {
     "cellMetadata": {},
     "inputWidgets": {},
     "nuid": "1c889e45-6872-44a2-9845-f6cc47ed05b7",
     "showTitle": false,
     "title": ""
    }
   },
   "outputs": [],
   "source": []
  }
 ],
 "metadata": {
  "application/vnd.databricks.v1+notebook": {
   "dashboards": [],
   "language": "python",
   "notebookMetadata": {
    "pythonIndentUnit": 4
   },
   "notebookName": "youtube_analytics_gold_layer",
   "widgets": {}
  }
 },
 "nbformat": 4,
 "nbformat_minor": 0
}
