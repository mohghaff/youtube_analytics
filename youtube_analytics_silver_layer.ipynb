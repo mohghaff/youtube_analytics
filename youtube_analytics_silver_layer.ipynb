{
 "cells": [
  {
   "cell_type": "code",
   "execution_count": 0,
   "metadata": {
    "application/vnd.databricks.v1+cell": {
     "cellMetadata": {},
     "inputWidgets": {},
     "nuid": "e513bbe9-92f4-4c31-ad36-1def6bb2e2fe",
     "showTitle": false,
     "title": ""
    }
   },
   "outputs": [],
   "source": [
    "from pyspark.sql.functions import col, sum\n",
    "from pyspark.sql.types import IntegerType, DoubleType, DateType, StringType"
   ]
  },
  {
   "cell_type": "code",
   "execution_count": 0,
   "metadata": {
    "application/vnd.databricks.v1+cell": {
     "cellMetadata": {
      "byteLimit": 2048000,
      "rowLimit": 10000
     },
     "inputWidgets": {},
     "nuid": "7bb4bb8c-aa28-4d03-947c-b74ab3fec279",
     "showTitle": false,
     "title": ""
    }
   },
   "outputs": [
    {
     "output_type": "stream",
     "name": "stdout",
     "output_type": "stream",
     "text": [
      "The directory /mnt/silver is already mounted.\n"
     ]
    }
   ],
   "source": [
    "configs = {\n",
    "  \"fs.azure.account.auth.type\": \"CustomAccessToken\",\n",
    "  \"fs.azure.account.custom.token.provider.class\": spark.conf.get(\"spark.databricks.passthrough.adls.gen2.tokenProviderClassName\")\n",
    "}\n",
    "\n",
    "directory_to_check = \"/mnt/silver\"\n",
    "mounted_directories = [mount.mountPoint for mount in dbutils.fs.mounts()]\n",
    "\n",
    "if directory_to_check in mounted_directories:\n",
    "    print(f\"The directory {directory_to_check} is already mounted.\")\n",
    "else:\n",
    "    dbutils.fs.mount(\n",
    "    source = \"abfss://bronze@youtubeadlsg2.dfs.core.windows.net/\",\n",
    "    mount_point = \"/mnt/silver\",\n",
    "    extra_configs = configs)"
   ]
  },
  {
   "cell_type": "code",
   "execution_count": 0,
   "metadata": {
    "application/vnd.databricks.v1+cell": {
     "cellMetadata": {
      "byteLimit": 2048000,
      "rowLimit": 10000
     },
     "inputWidgets": {},
     "nuid": "83f579d3-ecf6-4b26-a68c-2371627df359",
     "showTitle": false,
     "title": ""
    }
   },
   "outputs": [],
   "source": [
    "df = spark.read.format('delta').load('/mnt/silver/data/')"
   ]
  },
  {
   "cell_type": "code",
   "execution_count": 0,
   "metadata": {
    "application/vnd.databricks.v1+cell": {
     "cellMetadata": {
      "byteLimit": 2048000,
      "rowLimit": 10000
     },
     "inputWidgets": {},
     "nuid": "4209ca59-e563-4aa3-9d28-b59617ad4764",
     "showTitle": false,
     "title": ""
    }
   },
   "outputs": [
    {
     "output_type": "stream",
     "name": "stdout",
     "output_type": "stream",
     "text": [
      "+----+--------------------+-----------+-----------+----------------+--------------------+-------+-------------+------------+-------------+----------------+------------+-----------------+--------------------------------+-----------------------+------------------------+----------------------+-----------------------+----------------------------+------------+-------------+------------+-----------------------------------+----------+-----------------+----------------+---------+----------+\n|rank|            Youtuber|subscribers|video_views|        category|               Title|uploads|      Country|Abbreviation| channel_type|video_views_rank|country_rank|channel_type_rank|video_views_for_the_last_30_days|lowest_monthly_earnings|highest_monthly_earnings|lowest_yearly_earnings|highest_yearly_earnings|subscribers_for_last_30_days|created_year|created_month|created_date|Gross_tertiary_education_enrollment|Population|Unemployment_rate|Urban_population| Latitude| Longitude|\n+----+--------------------+-----------+-----------+----------------+--------------------+-------+-------------+------------+-------------+----------------+------------+-----------------+--------------------------------+-----------------------+------------------------+----------------------+-----------------------+----------------------------+------------+-------------+------------+-----------------------------------+----------+-----------------+----------------+---------+----------+\n|   1|            T-Series|  245000000|   2.28E+11|           Music|            T-Series|  20082|        India|          IN|        Music|               1|           1|                1|                      2258000000|                 564600|                 9000000|               6800000|              108400000|                     2000000|        2006|          Mar|          13|                               28.1|1366417754|             5.36|       471031528|20.593684|  78.96288|\n|   2|      YouTube Movies|  170000000|          0|Film & Animation|       youtubemovies|      1|United States|          US|        Games|         4055159|        7670|             7423|                              12|                      0|                    0.05|                  0.04|                   0.58|                         nan|        2006|          Mar|           5|                               88.2| 328239523|             14.7|       270663028| 37.09024|-95.712891|\n|   3|             MrBeast|  166000000|28368841870|   Entertainment|             MrBeast|    741|United States|          US|Entertainment|              48|           1|                1|                      1348000000|                 337000|                 5400000|               4000000|               64700000|                     8000000|        2012|          Feb|          20|                               88.2| 328239523|             14.7|       270663028| 37.09024|-95.712891|\n|   4|Cocomelon - Nurse...|  162000000|   1.64E+11|       Education|Cocomelon - Nurse...|    966|United States|          US|    Education|               2|           2|                1|                      1975000000|                 493800|                 7900000|               5900000|               94800000|                     1000000|        2006|          Sep|           1|                               88.2| 328239523|             14.7|       270663028| 37.09024|-95.712891|\n|   5|           SET India|  159000000|   1.48E+11|           Shows|           SET India| 116536|        India|          IN|Entertainment|               3|           2|                2|                      1824000000|                 455900|                 7300000|               5500000|               87500000|                     1000000|        2006|          Sep|          20|                               28.1|1366417754|             5.36|       471031528|20.593684|  78.96288|\n+----+--------------------+-----------+-----------+----------------+--------------------+-------+-------------+------------+-------------+----------------+------------+-----------------+--------------------------------+-----------------------+------------------------+----------------------+-----------------------+----------------------------+------------+-------------+------------+-----------------------------------+----------+-----------------+----------------+---------+----------+\nonly showing top 5 rows\n\n"
     ]
    }
   ],
   "source": [
    "df.show(5)"
   ]
  },
  {
   "cell_type": "code",
   "execution_count": 0,
   "metadata": {
    "application/vnd.databricks.v1+cell": {
     "cellMetadata": {
      "byteLimit": 2048000,
      "rowLimit": 10000
     },
     "inputWidgets": {},
     "nuid": "c2229ce2-9c9e-4613-bd4d-107daddf5416",
     "showTitle": false,
     "title": ""
    }
   },
   "outputs": [
    {
     "output_type": "stream",
     "name": "stdout",
     "output_type": "stream",
     "text": [
      "+----+--------+-----------+-----------+--------+-----+-------+-------+------------+------------+----------------+------------+-----------------+--------------------------------+-----------------------+------------------------+----------------------+-----------------------+----------------------------+------------+-------------+------------+-----------------------------------+----------+-----------------+----------------+--------+---------+\n|rank|Youtuber|subscribers|video_views|category|Title|uploads|Country|Abbreviation|channel_type|video_views_rank|country_rank|channel_type_rank|video_views_for_the_last_30_days|lowest_monthly_earnings|highest_monthly_earnings|lowest_yearly_earnings|highest_yearly_earnings|subscribers_for_last_30_days|created_year|created_month|created_date|Gross_tertiary_education_enrollment|Population|Unemployment_rate|Urban_population|Latitude|Longitude|\n+----+--------+-----------+-----------+--------+-----+-------+-------+------------+------------+----------------+------------+-----------------+--------------------------------+-----------------------+------------------------+----------------------+-----------------------+----------------------------+------------+-------------+------------+-----------------------------------+----------+-----------------+----------------+--------+---------+\n|   0|       0|          0|          0|       0|    0|      0|      0|           0|           0|               1|           0|                0|                               0|                      0|                       0|                     0|                      0|                           0|           0|            0|           0|                                  0|         0|                0|               0|       0|        0|\n+----+--------+-----------+-----------+--------+-----+-------+-------+------------+------------+----------------+------------+-----------------+--------------------------------+-----------------------+------------------------+----------------------+-----------------------+----------------------------+------------+-------------+------------+-----------------------------------+----------+-----------------+----------------+--------+---------+\n\n"
     ]
    }
   ],
   "source": [
    "df.select(*(sum(col(c).isNull().cast(\"int\")).alias(c) for c in df.columns)).show()\n"
   ]
  },
  {
   "cell_type": "code",
   "execution_count": 0,
   "metadata": {
    "application/vnd.databricks.v1+cell": {
     "cellMetadata": {
      "byteLimit": 2048000,
      "rowLimit": 10000
     },
     "inputWidgets": {},
     "nuid": "d1145c3c-a503-4584-8024-ac014fc6c64a",
     "showTitle": false,
     "title": ""
    }
   },
   "outputs": [],
   "source": [
    "duplicates = df.dropDuplicates()"
   ]
  },
  {
   "cell_type": "code",
   "execution_count": 0,
   "metadata": {
    "application/vnd.databricks.v1+cell": {
     "cellMetadata": {
      "byteLimit": 2048000,
      "rowLimit": 10000
     },
     "inputWidgets": {},
     "nuid": "72878017-711e-4a2d-88d0-f0abdb9e3cd8",
     "showTitle": false,
     "title": ""
    }
   },
   "outputs": [
    {
     "output_type": "stream",
     "name": "stdout",
     "output_type": "stream",
     "text": [
      "Out[26]: DataFrame[rank: string, Youtuber: string, subscribers: string, video_views: string, category: string, Title: string, uploads: string, Country: string, Abbreviation: string, channel_type: string, video_views_rank: string, country_rank: string, channel_type_rank: string, video_views_for_the_last_30_days: string, lowest_monthly_earnings: string, highest_monthly_earnings: string, lowest_yearly_earnings: string, highest_yearly_earnings: string, subscribers_for_last_30_days: string, created_year: string, created_month: string, created_date: string, Gross_tertiary_education_enrollment: string, Population: string, Unemployment_rate: string, Urban_population: string, Latitude: string, Longitude: string]"
     ]
    }
   ],
   "source": [
    "duplicates"
   ]
  },
  {
   "cell_type": "code",
   "execution_count": 0,
   "metadata": {
    "application/vnd.databricks.v1+cell": {
     "cellMetadata": {
      "byteLimit": 2048000,
      "rowLimit": 10000
     },
     "inputWidgets": {},
     "nuid": "1f6e5318-dcaa-4219-9ee9-aa31e9f743eb",
     "showTitle": false,
     "title": ""
    }
   },
   "outputs": [],
   "source": [
    "numeric_columns = [\"subscribers\", \"video_views\", \"video_views_rank\", \"country_rank\", \n",
    "                    \"channel_type_rank\", \"video_views_for_the_last_30_days\",\n",
    "                    \"lowest_monthly_earnings\", \"highest_monthly_earnings\", \n",
    "                    \"lowest_yearly_earnings\", \"highest_yearly_earnings\", \n",
    "                    \"subscribers_for_last_30_days\", \"Gross_tertiary_education_enrollment\", \n",
    "                    \"Population\", \"Unemployment_rate\"]\n",
    "\n",
    "for column in numeric_columns:\n",
    "    df = df.withColumn(column, col(column).cast(DoubleType()))\n",
    "\n",
    "# Validate and convert date columns (assuming date columns are in a specific format)\n",
    "date_columns = [\"created_year\", \"created_month\", \"created_date\"]\n",
    "\n",
    "for column in date_columns:\n",
    "    df = df.withColumn(column, col(column).cast(DateType()))\n",
    "\n",
    "# Validate and convert categorical columns if needed (e.g., converting to StringType)\n",
    "categorical_columns = [\"Youtuber\", \"category\", \"Title\", \"Country\", \"Abbreviation\", \"channel_type\"]\n",
    "\n",
    "for column in categorical_columns:\n",
    "    df = df.withColumn(column, col(column).cast(StringType()))\n"
   ]
  },
  {
   "cell_type": "code",
   "execution_count": 0,
   "metadata": {
    "application/vnd.databricks.v1+cell": {
     "cellMetadata": {
      "byteLimit": 2048000,
      "rowLimit": 10000
     },
     "inputWidgets": {},
     "nuid": "7be840eb-cb09-48fa-bda5-5756aa07ece3",
     "showTitle": false,
     "title": ""
    }
   },
   "outputs": [],
   "source": [
    "duplicate_columns = ['Youtuber', 'Country']\n",
    "\n",
    "df_no_duplicates = df.dropDuplicates(subset=duplicate_columns)\n"
   ]
  },
  {
   "cell_type": "code",
   "execution_count": 0,
   "metadata": {
    "application/vnd.databricks.v1+cell": {
     "cellMetadata": {
      "byteLimit": 2048000,
      "rowLimit": 10000
     },
     "inputWidgets": {},
     "nuid": "4f4bb82e-b260-412d-8e01-81b0412c72ff",
     "showTitle": false,
     "title": ""
    }
   },
   "outputs": [],
   "source": [
    "configs = {\n",
    "  \"fs.azure.account.auth.type\": \"CustomAccessToken\",\n",
    "  \"fs.azure.account.custom.token.provider.class\": spark.conf.get(\"spark.databricks.passthrough.adls.gen2.tokenProviderClassName\")\n",
    "}\n",
    "\n",
    "directory_to_check = \"/mnt/gold\"\n",
    "mounted_directories = [mount.mountPoint for mount in dbutils.fs.mounts()]\n",
    "\n",
    "if directory_to_check in mounted_directories:\n",
    "    print(f\"The directory {directory_to_check} is already mounted.\")\n",
    "else:\n",
    "    dbutils.fs.mount(\n",
    "    source = \"abfss://gold@youtubeadlsg2.dfs.core.windows.net/\",\n",
    "    mount_point = \"/mnt/gold\",\n",
    "    extra_configs = configs)"
   ]
  },
  {
   "cell_type": "code",
   "execution_count": 0,
   "metadata": {
    "application/vnd.databricks.v1+cell": {
     "cellMetadata": {
      "byteLimit": 2048000,
      "rowLimit": 10000
     },
     "inputWidgets": {},
     "nuid": "0175abbd-2852-4cd4-b4e8-38f860723ca3",
     "showTitle": false,
     "title": ""
    }
   },
   "outputs": [],
   "source": [
    "output_path = '/mnt/gold/data'\n",
    "df_no_duplicates.write.format('delta').mode('overwrite').save(output_path)"
   ]
  },
  {
   "cell_type": "code",
   "execution_count": 0,
   "metadata": {
    "application/vnd.databricks.v1+cell": {
     "cellMetadata": {},
     "inputWidgets": {},
     "nuid": "4105aa3b-3c21-471a-9938-84fbba238a26",
     "showTitle": false,
     "title": ""
    }
   },
   "outputs": [],
   "source": []
  }
 ],
 "metadata": {
  "application/vnd.databricks.v1+notebook": {
   "dashboards": [],
   "language": "python",
   "notebookMetadata": {
    "pythonIndentUnit": 4
   },
   "notebookName": "youtube_analytics_silver_layer",
   "widgets": {}
  }
 },
 "nbformat": 4,
 "nbformat_minor": 0
}
